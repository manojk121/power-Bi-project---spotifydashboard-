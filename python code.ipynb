{
 "cells": [
  {
   "cell_type": "code",
   "execution_count": null,
   "id": "e8f884a3-5cbf-492f-a0fb-d0825754556a",
   "metadata": {},
   "outputs": [],
   "source": [
    "import pandas as pd\n",
    "import spotipy\n",
    "from spotipy.oauth2 import SpotifyClientCredentials\n",
    "\n",
    "# Spotify credentials\n",
    "client_id = 'c953745ec9b44f0584f86cfc18616ecf'\n",
    "client_secret = '1c6c4669f8ea428f84ce0fbe695534ea'\n",
    "\n",
    "# Setting up Spotify client credentials manager\n",
    "client_credentials_manager = SpotifyClientCredentials(client_id=client_id, client_secret=client_secret)\n",
    "sp = spotipy.Spotify(client_credentials_manager=client_credentials_manager)\n",
    "\n",
    "def get_album_image_url(track_name):\n",
    "    # Search for the track\n",
    "    result = sp.search(q='track:' + track_name, type='track', limit=1)\n",
    "    items = result['tracks']['items']\n",
    "    if items:\n",
    "        # Get album image URL\n",
    "        album_image_url = items[0]['album']['images'][0]['url']\n",
    "        return album_image_url\n",
    "    else:\n",
    "        return \"Not Found\"\n",
    "\n",
    "# Read the dataset\n",
    "df = pd.read_csv('C:/Users/admin/Downloads/spotify/spotify-2023.csv',encoding='latin-1')\n",
    "\n",
    "\n",
    "# Assuming the column name for track names is 'track_name'\n",
    "df['album_image_url'] = df['track_name'].apply(get_album_image_url)\n",
    "\n",
    "# Save the new dataframe with album image URLs\n",
    "df.to_csv('C:/Users/admin/Downloads/spotify/spotify-2023.csv', index=False)"
   ]
  }
 ],
 "metadata": {
  "kernelspec": {
   "display_name": "Python 3 (ipykernel)",
   "language": "python",
   "name": "python3"
  },
  "language_info": {
   "codemirror_mode": {
    "name": "ipython",
    "version": 3
   },
   "file_extension": ".py",
   "mimetype": "text/x-python",
   "name": "python",
   "nbconvert_exporter": "python",
   "pygments_lexer": "ipython3",
   "version": "3.11.6"
  }
 },
 "nbformat": 4,
 "nbformat_minor": 5
}
